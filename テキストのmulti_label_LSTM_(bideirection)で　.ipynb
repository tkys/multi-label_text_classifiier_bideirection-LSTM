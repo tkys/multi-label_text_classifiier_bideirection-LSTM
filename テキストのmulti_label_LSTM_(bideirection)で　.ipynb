{
  "nbformat": 4,
  "nbformat_minor": 0,
  "metadata": {
    "colab": {
      "name": "multi-label_text_classifiier_bideirection-LSTM.ipynb",
      "version": "0.3.2",
      "provenance": [],
      "include_colab_link": true
    },
    "kernelspec": {
      "name": "python3",
      "display_name": "Python 3"
    }
  },
  "cells": [
    {
      "cell_type": "markdown",
      "metadata": {
        "id": "view-in-github",
        "colab_type": "text"
      },
      "source": [
        "<a href=\"https://colab.research.google.com/github/tkys/multi-label_text_classifiier_bideirection-LSTM/blob/master/%E3%83%86%E3%82%AD%E3%82%B9%E3%83%88%E3%81%AEmulti_label_LSTM_(bideirection)%E3%81%A7%E3%80%80.ipynb\" target=\"_parent\"><img src=\"https://colab.research.google.com/assets/colab-badge.svg\" alt=\"Open In Colab\"/></a>"
      ]
    },
    {
      "cell_type": "code",
      "metadata": {
        "id": "7yV2r8JbE2ne",
        "colab_type": "code",
        "colab": {}
      },
      "source": [
        "from sklearn.preprocessing import MultiLabelBinarizer\n",
        "mlb = MultiLabelBinarizer()"
      ],
      "execution_count": 0,
      "outputs": []
    },
    {
      "cell_type": "code",
      "metadata": {
        "id": "bojBPhxvhSlt",
        "colab_type": "code",
        "colab": {}
      },
      "source": [
        "multi_flags = [['dog', 'cat'],['car', 'house','book'],['cat', 'phone'], ['dog', 'park'], ['phone'], ['book', 'art', 'commedy'] ]"
      ],
      "execution_count": 0,
      "outputs": []
    },
    {
      "cell_type": "code",
      "metadata": {
        "id": "JqFQwD2jwj1S",
        "colab_type": "code",
        "outputId": "f474f129-82e3-400c-d2a4-f6717901a634",
        "colab": {
          "base_uri": "https://localhost:8080/",
          "height": 34
        }
      },
      "source": [
        "len(multi_flags)"
      ],
      "execution_count": 0,
      "outputs": [
        {
          "output_type": "execute_result",
          "data": {
            "text/plain": [
              "6"
            ]
          },
          "metadata": {
            "tags": []
          },
          "execution_count": 121
        }
      ]
    },
    {
      "cell_type": "code",
      "metadata": {
        "id": "pQxqT5ByE0UV",
        "colab_type": "code",
        "colab": {}
      },
      "source": [
        "label = mlb.fit_transform(multi_flags)"
      ],
      "execution_count": 0,
      "outputs": []
    },
    {
      "cell_type": "code",
      "metadata": {
        "id": "5bI8P_hqfVtl",
        "colab_type": "code",
        "outputId": "90be786a-a0cc-481c-b18a-5901057f7184",
        "colab": {
          "base_uri": "https://localhost:8080/",
          "height": 119
        }
      },
      "source": [
        "label"
      ],
      "execution_count": 0,
      "outputs": [
        {
          "output_type": "execute_result",
          "data": {
            "text/plain": [
              "array([[0, 0, 0, 1, 0, 1, 0, 0, 0],\n",
              "       [0, 1, 1, 0, 0, 0, 1, 0, 0],\n",
              "       [0, 0, 0, 1, 0, 0, 0, 0, 1],\n",
              "       [0, 0, 0, 0, 0, 1, 0, 1, 0],\n",
              "       [0, 0, 0, 0, 0, 0, 0, 0, 1],\n",
              "       [1, 1, 0, 0, 1, 0, 0, 0, 0]])"
            ]
          },
          "metadata": {
            "tags": []
          },
          "execution_count": 42
        }
      ]
    },
    {
      "cell_type": "code",
      "metadata": {
        "id": "mziqlsEAfWz4",
        "colab_type": "code",
        "outputId": "04c2373f-6e01-40bc-eccd-da5988378032",
        "colab": {
          "base_uri": "https://localhost:8080/",
          "height": 34
        }
      },
      "source": [
        "label.shape"
      ],
      "execution_count": 0,
      "outputs": [
        {
          "output_type": "execute_result",
          "data": {
            "text/plain": [
              "(6, 9)"
            ]
          },
          "metadata": {
            "tags": []
          },
          "execution_count": 43
        }
      ]
    },
    {
      "cell_type": "code",
      "metadata": {
        "id": "ISnOxREcgo28",
        "colab_type": "code",
        "outputId": "4295dffb-a8ed-455d-eb70-6261ae0bc3a9",
        "colab": {
          "base_uri": "https://localhost:8080/",
          "height": 51
        }
      },
      "source": [
        "mlb.classes_"
      ],
      "execution_count": 0,
      "outputs": [
        {
          "output_type": "execute_result",
          "data": {
            "text/plain": [
              "array(['art', 'book', 'car', 'cat', 'commedy', 'dog', 'house', 'park',\n",
              "       'phone'], dtype=object)"
            ]
          },
          "metadata": {
            "tags": []
          },
          "execution_count": 44
        }
      ]
    },
    {
      "cell_type": "code",
      "metadata": {
        "id": "fzMVOwOuGq52",
        "colab_type": "code",
        "colab": {}
      },
      "source": [
        "import pandas as pd\n",
        "import json"
      ],
      "execution_count": 0,
      "outputs": []
    },
    {
      "cell_type": "code",
      "metadata": {
        "id": "SU8Db2rbGsv7",
        "colab_type": "code",
        "colab": {}
      },
      "source": [
        "df = pd.read_json('./comment.json')"
      ],
      "execution_count": 0,
      "outputs": []
    },
    {
      "cell_type": "code",
      "metadata": {
        "id": "gdlElkIZBSfU",
        "colab_type": "code",
        "colab": {}
      },
      "source": [
        "basket_multi_label = basket[\"labels\"]"
      ],
      "execution_count": 0,
      "outputs": []
    },
    {
      "cell_type": "code",
      "metadata": {
        "id": "uW1CNI09CLVS",
        "colab_type": "code",
        "colab": {}
      },
      "source": [
        "basket_multi_label.shape"
      ],
      "execution_count": 0,
      "outputs": []
    },
    {
      "cell_type": "code",
      "metadata": {
        "id": "OqMSyjGQeJBY",
        "colab_type": "code",
        "colab": {}
      },
      "source": [
        "from keras.models import Sequential\n",
        "from keras.layers import Dense, Activation"
      ],
      "execution_count": 0,
      "outputs": []
    },
    {
      "cell_type": "code",
      "metadata": {
        "id": "JkmUXoJXelWH",
        "colab_type": "code",
        "colab": {}
      },
      "source": [
        "# ダミーデータ作成\n",
        "import numpy as np\n",
        "data = np.random.random((7, 100))\n",
        "labels = np.random.randint(10, size=(1000, 1))\n",
        "\n",
        "# ラベルデータをカテゴリの1-hotベクトルにエンコードする\n",
        "one_hot_labels = keras.utils.to_categorical(labels, num_classes=10)\n"
      ],
      "execution_count": 0,
      "outputs": []
    },
    {
      "cell_type": "code",
      "metadata": {
        "id": "fsKWHWHcjS7M",
        "colab_type": "code",
        "outputId": "d6b785a0-fe15-42b3-e733-c0060a4df470",
        "colab": {
          "base_uri": "https://localhost:8080/",
          "height": 34
        }
      },
      "source": [
        "data.shape"
      ],
      "execution_count": 0,
      "outputs": [
        {
          "output_type": "execute_result",
          "data": {
            "text/plain": [
              "(7, 100)"
            ]
          },
          "metadata": {
            "tags": []
          },
          "execution_count": 70
        }
      ]
    },
    {
      "cell_type": "code",
      "metadata": {
        "id": "PBemtaRXjXKA",
        "colab_type": "code",
        "outputId": "14ee8d32-73ea-4048-e797-842888d0df3e",
        "colab": {
          "base_uri": "https://localhost:8080/",
          "height": 357
        }
      },
      "source": [
        "data[0]"
      ],
      "execution_count": 0,
      "outputs": [
        {
          "output_type": "execute_result",
          "data": {
            "text/plain": [
              "array([0.99312661, 0.49650889, 0.24723595, 0.8636536 , 0.02443464,\n",
              "       0.46245866, 0.40816314, 0.36417159, 0.59047631, 0.48332604,\n",
              "       0.26600714, 0.77840252, 0.95456599, 0.87952298, 0.10004578,\n",
              "       0.72333041, 0.74973866, 0.15300874, 0.24853535, 0.61700221,\n",
              "       0.77766589, 0.20730891, 0.39902591, 0.72877655, 0.66277613,\n",
              "       0.32886197, 0.74946711, 0.42252744, 0.18988072, 0.63538004,\n",
              "       0.42457248, 0.03281941, 0.92506082, 0.71919226, 0.17932752,\n",
              "       0.58666436, 0.49556614, 0.47751079, 0.42921195, 0.41822084,\n",
              "       0.54902125, 0.86028256, 0.66689817, 0.29872265, 0.71979409,\n",
              "       0.37201589, 0.1682465 , 0.94988699, 0.18893233, 0.21754908,\n",
              "       0.84103798, 0.91461265, 0.03417606, 0.11595067, 0.57418804,\n",
              "       0.28438209, 0.13585103, 0.10228   , 0.25960331, 0.48375102,\n",
              "       0.15392286, 0.87320285, 0.22223044, 0.61785551, 0.7957786 ,\n",
              "       0.60294676, 0.8929636 , 0.08783984, 0.65304302, 0.22884022,\n",
              "       0.63380665, 0.96074956, 0.30661246, 0.59176806, 0.90406234,\n",
              "       0.20907334, 0.58741327, 0.87561743, 0.27894727, 0.24888337,\n",
              "       0.9012372 , 0.46908275, 0.17924562, 0.73342219, 0.57653578,\n",
              "       0.74656579, 0.69684806, 0.95128161, 0.77109235, 0.970607  ,\n",
              "       0.96788544, 0.59840349, 0.61449168, 0.59622678, 0.30589713,\n",
              "       0.12230518, 0.64603111, 0.26487902, 0.50533221, 0.31755042])"
            ]
          },
          "metadata": {
            "tags": []
          },
          "execution_count": 71
        }
      ]
    },
    {
      "cell_type": "code",
      "metadata": {
        "id": "ESr8IB3TiXsC",
        "colab_type": "code",
        "outputId": "a0d7a086-3009-4fd8-9a8b-d6943ab1dd3a",
        "colab": {
          "base_uri": "https://localhost:8080/",
          "height": 34
        }
      },
      "source": [
        "one_hot_labels.shape"
      ],
      "execution_count": 0,
      "outputs": [
        {
          "output_type": "execute_result",
          "data": {
            "text/plain": [
              "(1000, 10)"
            ]
          },
          "metadata": {
            "tags": []
          },
          "execution_count": 67
        }
      ]
    },
    {
      "cell_type": "code",
      "metadata": {
        "id": "WL3rCz3qe1T1",
        "colab_type": "code",
        "outputId": "96a2a5c8-45b9-40ee-a664-18bf9a049306",
        "colab": {
          "base_uri": "https://localhost:8080/",
          "height": 34
        }
      },
      "source": [
        "one_hot_labels[0]"
      ],
      "execution_count": 0,
      "outputs": [
        {
          "output_type": "execute_result",
          "data": {
            "text/plain": [
              "array([0., 0., 0., 0., 0., 0., 0., 1., 0., 0.], dtype=float32)"
            ]
          },
          "metadata": {
            "tags": []
          },
          "execution_count": 64
        }
      ]
    },
    {
      "cell_type": "code",
      "metadata": {
        "id": "pZISxZGaambK",
        "colab_type": "code",
        "outputId": "4f423464-d522-4312-8bc5-1727bf502aab",
        "colab": {
          "base_uri": "https://localhost:8080/",
          "height": 357
        }
      },
      "source": [
        "# 1つの入力から10クラスの分類を行なう場合について（カテゴリ分類）\n",
        "\n",
        "model = Sequential()\n",
        "model.add(Dense(32, activation='relu', input_dim=100))\n",
        "model.add(Dense(16, activation='relu'))\n",
        "model.add(Dense(10, activation='softmax'))\n",
        "\n",
        "model.compile(optimizer='rmsprop',\n",
        "              loss='categorical_crossentropy',\n",
        "              metrics=['accuracy'])\n",
        "\n",
        "\n",
        "# 各イテレーションのバッチサイズを32で学習を行なう\n",
        "history = model.fit(data, label, epochs=10, batch_size=32)"
      ],
      "execution_count": 0,
      "outputs": [
        {
          "output_type": "stream",
          "text": [
            "Epoch 1/10\n",
            "7/7 [==============================] - 0s 37ms/step - loss: 5.1113 - acc: 0.0000e+00\n",
            "Epoch 2/10\n",
            "7/7 [==============================] - 0s 249us/step - loss: 4.9548 - acc: 0.0000e+00\n",
            "Epoch 3/10\n",
            "7/7 [==============================] - 0s 748us/step - loss: 4.8597 - acc: 0.0000e+00\n",
            "Epoch 4/10\n",
            "7/7 [==============================] - 0s 265us/step - loss: 4.7823 - acc: 0.0000e+00\n",
            "Epoch 5/10\n",
            "7/7 [==============================] - 0s 253us/step - loss: 4.7207 - acc: 0.0000e+00\n",
            "Epoch 6/10\n",
            "7/7 [==============================] - 0s 257us/step - loss: 4.6754 - acc: 0.0000e+00\n",
            "Epoch 7/10\n",
            "7/7 [==============================] - 0s 228us/step - loss: 4.6396 - acc: 0.0000e+00\n",
            "Epoch 8/10\n",
            "7/7 [==============================] - 0s 258us/step - loss: 4.6116 - acc: 0.1429\n",
            "Epoch 9/10\n",
            "7/7 [==============================] - 0s 209us/step - loss: 4.5693 - acc: 0.2857\n",
            "Epoch 10/10\n",
            "7/7 [==============================] - 0s 253us/step - loss: 4.5366 - acc: 0.4286\n"
          ],
          "name": "stdout"
        }
      ]
    },
    {
      "cell_type": "code",
      "metadata": {
        "id": "jeOmk3P4jDoP",
        "colab_type": "code",
        "outputId": "0daeb61a-1177-44b2-fb51-126d11c285a0",
        "colab": {
          "base_uri": "https://localhost:8080/",
          "height": 68
        }
      },
      "source": [
        "model.predict(np.random.random((1, 100)))"
      ],
      "execution_count": 0,
      "outputs": [
        {
          "output_type": "execute_result",
          "data": {
            "text/plain": [
              "array([[0.08878566, 0.13400522, 0.10360324, 0.11037378, 0.13499375,\n",
              "        0.07659661, 0.06164777, 0.07876155, 0.10884176, 0.10239062]],\n",
              "      dtype=float32)"
            ]
          },
          "metadata": {
            "tags": []
          },
          "execution_count": 72
        }
      ]
    },
    {
      "cell_type": "code",
      "metadata": {
        "id": "O4xFOdpljjOQ",
        "colab_type": "code",
        "outputId": "9f578de2-2c72-40bd-9e2f-1d227ee0deec",
        "colab": {
          "base_uri": "https://localhost:8080/",
          "height": 68
        }
      },
      "source": [
        "model.predict_proba(np.random.random((1, 100)))"
      ],
      "execution_count": 0,
      "outputs": [
        {
          "output_type": "execute_result",
          "data": {
            "text/plain": [
              "array([[0.07577451, 0.14482605, 0.09925856, 0.11745218, 0.15235624,\n",
              "        0.06853005, 0.06241183, 0.08314951, 0.08447716, 0.11176385]],\n",
              "      dtype=float32)"
            ]
          },
          "metadata": {
            "tags": []
          },
          "execution_count": 74
        }
      ]
    },
    {
      "cell_type": "code",
      "metadata": {
        "id": "g2FLSF1Djp7B",
        "colab_type": "code",
        "outputId": "e50dcc07-b5cd-4598-8074-f7d93bf1d123",
        "colab": {
          "base_uri": "https://localhost:8080/",
          "height": 34
        }
      },
      "source": [
        "model.predict_classes(np.random.random((1, 100)))"
      ],
      "execution_count": 0,
      "outputs": [
        {
          "output_type": "execute_result",
          "data": {
            "text/plain": [
              "array([1])"
            ]
          },
          "metadata": {
            "tags": []
          },
          "execution_count": 75
        }
      ]
    },
    {
      "cell_type": "code",
      "metadata": {
        "id": "cQvQaRn8j2R7",
        "colab_type": "code",
        "outputId": "a5fadd4a-9e45-4ab7-a749-2b0f4d49045e",
        "colab": {
          "base_uri": "https://localhost:8080/",
          "height": 357
        }
      },
      "source": [
        "# 1つの入力から10クラスの分類を行なう場合について（カテゴリ分類）\n",
        "\n",
        "model = Sequential()\n",
        "model.add(Dense(32, activation='relu', input_dim=100))\n",
        "model.add(Dense(16, activation='relu'))\n",
        "model.add(Dense(10, activation='softmax'))\n",
        "\n",
        "model.compile(optimizer='rmsprop',\n",
        "              loss='binary_crossentropy',\n",
        "              metrics=['accuracy'])\n",
        "\n",
        "\n",
        "# 各イテレーションのバッチサイズを32で学習を行なう\n",
        "history = model.fit(data, label, epochs=10, batch_size=32)"
      ],
      "execution_count": 0,
      "outputs": [
        {
          "output_type": "stream",
          "text": [
            "Epoch 1/10\n",
            "7/7 [==============================] - 0s 48ms/step - loss: 0.6006 - acc: 0.7857\n",
            "Epoch 2/10\n",
            "7/7 [==============================] - 0s 275us/step - loss: 0.5776 - acc: 0.7857\n",
            "Epoch 3/10\n",
            "7/7 [==============================] - 0s 487us/step - loss: 0.5641 - acc: 0.7857\n",
            "Epoch 4/10\n",
            "7/7 [==============================] - 0s 271us/step - loss: 0.5527 - acc: 0.7857\n",
            "Epoch 5/10\n",
            "7/7 [==============================] - 0s 219us/step - loss: 0.5430 - acc: 0.7857\n",
            "Epoch 6/10\n",
            "7/7 [==============================] - 0s 265us/step - loss: 0.5351 - acc: 0.7857\n",
            "Epoch 7/10\n",
            "7/7 [==============================] - 0s 227us/step - loss: 0.5290 - acc: 0.7857\n",
            "Epoch 8/10\n",
            "7/7 [==============================] - 0s 284us/step - loss: 0.5250 - acc: 0.7857\n",
            "Epoch 9/10\n",
            "7/7 [==============================] - 0s 269us/step - loss: 0.5194 - acc: 0.7857\n",
            "Epoch 10/10\n",
            "7/7 [==============================] - 0s 299us/step - loss: 0.5145 - acc: 0.7857\n"
          ],
          "name": "stdout"
        }
      ]
    },
    {
      "cell_type": "code",
      "metadata": {
        "id": "PeLyoERGkASi",
        "colab_type": "code",
        "outputId": "9dfcddb9-a9bd-4279-9260-d1f2f9709e32",
        "colab": {
          "base_uri": "https://localhost:8080/",
          "height": 34
        }
      },
      "source": [
        "model.predict_classes(np.random.random((1, 100)))"
      ],
      "execution_count": 0,
      "outputs": [
        {
          "output_type": "execute_result",
          "data": {
            "text/plain": [
              "array([0])"
            ]
          },
          "metadata": {
            "tags": []
          },
          "execution_count": 78
        }
      ]
    },
    {
      "cell_type": "code",
      "metadata": {
        "id": "wx6E2PHkk7Rf",
        "colab_type": "code",
        "outputId": "86139671-9dbe-4805-9c93-bc51d3270958",
        "colab": {
          "base_uri": "https://localhost:8080/",
          "height": 238
        }
      },
      "source": [
        "from keras.models import Sequential\n",
        "from keras.layers import LSTM, Dense, Embedding\n",
        "\n",
        "\n",
        "model = Sequential()\n",
        "\n",
        "model.add(Embedding(input_dim=len(data)+1, output_dim=32)) #単語埋め込み層 keras.layers.Embedding\n",
        "model.add(LSTM(16, return_sequences=False)) #LSTM層 keras.layers.LSTM\n",
        "model.add(Dense(10, activation='softmax')) #全結合層 keras.layers.Dense\n",
        "\n",
        "model.compile(loss='binary_crossentropy', optimizer='adam', metrics=['accuracy'])\n",
        "\n",
        "model.summary()"
      ],
      "execution_count": 0,
      "outputs": [
        {
          "output_type": "stream",
          "text": [
            "_________________________________________________________________\n",
            "Layer (type)                 Output Shape              Param #   \n",
            "=================================================================\n",
            "embedding_2 (Embedding)      (None, None, 32)          256       \n",
            "_________________________________________________________________\n",
            "lstm_2 (LSTM)                (None, 16)                3136      \n",
            "_________________________________________________________________\n",
            "dense_23 (Dense)             (None, 10)                170       \n",
            "=================================================================\n",
            "Total params: 3,562\n",
            "Trainable params: 3,562\n",
            "Non-trainable params: 0\n",
            "_________________________________________________________________\n"
          ],
          "name": "stdout"
        }
      ]
    },
    {
      "cell_type": "code",
      "metadata": {
        "id": "XC4qlT2OlbPg",
        "colab_type": "code",
        "outputId": "2531b429-ad63-41ff-a59c-b1f6f73cd9f0",
        "colab": {
          "base_uri": "https://localhost:8080/",
          "height": 357
        }
      },
      "source": [
        "# 各イテレーションのバッチサイズを32で学習を行なう\n",
        "history = model.fit(data, label, epochs=10, batch_size=32)\n"
      ],
      "execution_count": 0,
      "outputs": [
        {
          "output_type": "stream",
          "text": [
            "Epoch 1/10\n",
            "7/7 [==============================] - 1s 133ms/step - loss: 0.5769 - acc: 0.7857\n",
            "Epoch 2/10\n",
            "7/7 [==============================] - 0s 8ms/step - loss: 0.5764 - acc: 0.7857\n",
            "Epoch 3/10\n",
            "7/7 [==============================] - 0s 7ms/step - loss: 0.5759 - acc: 0.7857\n",
            "Epoch 4/10\n",
            "7/7 [==============================] - 0s 7ms/step - loss: 0.5753 - acc: 0.7857\n",
            "Epoch 5/10\n",
            "7/7 [==============================] - 0s 7ms/step - loss: 0.5748 - acc: 0.7857\n",
            "Epoch 6/10\n",
            "7/7 [==============================] - 0s 8ms/step - loss: 0.5742 - acc: 0.7857\n",
            "Epoch 7/10\n",
            "7/7 [==============================] - 0s 7ms/step - loss: 0.5737 - acc: 0.7857\n",
            "Epoch 8/10\n",
            "7/7 [==============================] - 0s 7ms/step - loss: 0.5731 - acc: 0.7857\n",
            "Epoch 9/10\n",
            "7/7 [==============================] - 0s 7ms/step - loss: 0.5725 - acc: 0.7857\n",
            "Epoch 10/10\n",
            "7/7 [==============================] - 0s 6ms/step - loss: 0.5719 - acc: 0.7857\n"
          ],
          "name": "stdout"
        }
      ]
    },
    {
      "cell_type": "code",
      "metadata": {
        "id": "VvLLqQJcqP0r",
        "colab_type": "code",
        "colab": {}
      },
      "source": [
        "import pandas as pd\n",
        "\n",
        "basket = pd.read_csv(\"./basketball_comment.csv\") "
      ],
      "execution_count": 0,
      "outputs": []
    },
    {
      "cell_type": "code",
      "metadata": {
        "id": "MXcFTutAqimF",
        "colab_type": "code",
        "outputId": "712572a2-7d76-4a95-c479-048ffa316695",
        "colab": {
          "base_uri": "https://localhost:8080/",
          "height": 204
        }
      },
      "source": [
        "basket.head()"
      ],
      "execution_count": 0,
      "outputs": [
        {
          "output_type": "execute_result",
          "data": {
            "text/html": [
              "<div>\n",
              "<style scoped>\n",
              "    .dataframe tbody tr th:only-of-type {\n",
              "        vertical-align: middle;\n",
              "    }\n",
              "\n",
              "    .dataframe tbody tr th {\n",
              "        vertical-align: top;\n",
              "    }\n",
              "\n",
              "    .dataframe thead th {\n",
              "        text-align: right;\n",
              "    }\n",
              "</style>\n",
              "<table border=\"1\" class=\"dataframe\">\n",
              "  <thead>\n",
              "    <tr style=\"text-align: right;\">\n",
              "      <th></th>\n",
              "      <th>comment</th>\n",
              "      <th>labels</th>\n",
              "    </tr>\n",
              "  </thead>\n",
              "  <tbody>\n",
              "    <tr>\n",
              "      <th>0</th>\n",
              "      <td>Jordan Clarkson is more confident than Michae...</td>\n",
              "      <td>[player_criticize, team_cav]</td>\n",
              "    </tr>\n",
              "    <tr>\n",
              "      <th>1</th>\n",
              "      <td>Somebody told me Dray shoots threes like he's...</td>\n",
              "      <td>[player_humor]</td>\n",
              "    </tr>\n",
              "    <tr>\n",
              "      <th>2</th>\n",
              "      <td>Did JR just pass up an open three to let the ...</td>\n",
              "      <td>[player_criticize, play]</td>\n",
              "    </tr>\n",
              "    <tr>\n",
              "      <th>3</th>\n",
              "      <td>Also of course he splashed it</td>\n",
              "      <td>[game_observation, feeling, sentiment_pos, pla...</td>\n",
              "    </tr>\n",
              "    <tr>\n",
              "      <th>4</th>\n",
              "      <td>Lebron has been one of Cleveland's best playe...</td>\n",
              "      <td>[player_praise, team_cav]</td>\n",
              "    </tr>\n",
              "  </tbody>\n",
              "</table>\n",
              "</div>"
            ],
            "text/plain": [
              "                                             comment                                             labels\n",
              "0   Jordan Clarkson is more confident than Michae...                       [player_criticize, team_cav]\n",
              "1   Somebody told me Dray shoots threes like he's...                                     [player_humor]\n",
              "2   Did JR just pass up an open three to let the ...                           [player_criticize, play]\n",
              "3                      Also of course he splashed it  [game_observation, feeling, sentiment_pos, pla...\n",
              "4   Lebron has been one of Cleveland's best playe...                          [player_praise, team_cav]"
            ]
          },
          "metadata": {
            "tags": []
          },
          "execution_count": 22
        }
      ]
    },
    {
      "cell_type": "code",
      "metadata": {
        "id": "u2UIRv-WuRBr",
        "colab_type": "code",
        "outputId": "9db0b029-dbf2-4f8c-c6d4-84b0e4147d5d",
        "colab": {
          "base_uri": "https://localhost:8080/",
          "height": 136
        }
      },
      "source": [
        "basket.info()"
      ],
      "execution_count": 0,
      "outputs": [
        {
          "output_type": "stream",
          "text": [
            "<class 'pandas.core.frame.DataFrame'>\n",
            "RangeIndex: 1287 entries, 0 to 1286\n",
            "Data columns (total 2 columns):\n",
            "comment    1287 non-null object\n",
            "labels     1287 non-null object\n",
            "dtypes: object(2)\n",
            "memory usage: 20.2+ KB\n"
          ],
          "name": "stdout"
        }
      ]
    },
    {
      "cell_type": "code",
      "metadata": {
        "id": "Xn2tvl4kv9C7",
        "colab_type": "code",
        "outputId": "1abf874f-f9bd-435b-d2d8-a04d7c7544a7",
        "colab": {
          "base_uri": "https://localhost:8080/",
          "height": 1000
        }
      },
      "source": [
        "basket.labels"
      ],
      "execution_count": 0,
      "outputs": [
        {
          "output_type": "execute_result",
          "data": {
            "text/plain": [
              "0                            [player_criticize, team_cav]\n",
              "1                                          [player_humor]\n",
              "2                                [player_criticize, play]\n",
              "3       [game_observation, feeling, sentiment_pos, pla...\n",
              "4                               [player_praise, team_cav]\n",
              "5                            [player_criticize, team_cav]\n",
              "6                                        [refs_neg, play]\n",
              "7                                           [game_praise]\n",
              "8                      [feeling, player_praise, team_cav]\n",
              "9                            [player_criticize, team_cav]\n",
              "10               [player_praise, team_cav, sentiment_pos]\n",
              "11                                       [game_expertise]\n",
              "12                              [player_praise, team_cav]\n",
              "13      [stats, sentiment_neg, player_praise, team_cav...\n",
              "14               [player_praise, team_cav, sentiment_pos]\n",
              "15                                        [sentiment_pos]\n",
              "16                                 [stats, sentiment_pos]\n",
              "17                                     [game_observation]\n",
              "18                           [player_criticize, team_cav]\n",
              "19            [player_praise, player_criticize, team_cav]\n",
              "20                                              [teasing]\n",
              "21                                       [game_expertise]\n",
              "22                             [team_war, game_expertise]\n",
              "23                             [team_cav, game_expertise]\n",
              "24                                             [team_war]\n",
              "25                  [player_criticize, team_cav, teasing]\n",
              "26            [player_criticize, team_cav, sentiment_neg]\n",
              "27                                          [game_praise]\n",
              "28            [player_praise, team_cav, game_observation]\n",
              "29            [player_criticize, team_cav, sentiment_neg]\n",
              "                              ...                        \n",
              "1257    [player_criticize, team_war, play, sentiment_neg]\n",
              "1258                 [coach_neg, team_cav, player_praise]\n",
              "1259                                               [refs]\n",
              "1260                                     [game_expertise]\n",
              "1261                         [game_observation, team_cav]\n",
              "1262                              [stats, game_expertise]\n",
              "1263    [sentiment_neg, team_cav, game_observation, fe...\n",
              "1264                                               [team]\n",
              "1265             [player_praise, team_cav, sentiment_pos]\n",
              "1266                [coach_neg, team_cav, game_expertise]\n",
              "1267                   [play, refs_neg, game_observation]\n",
              "1268    [game_expertise, team_cav, sentiment_neg, play...\n",
              "1269    [game_praise, game_expertise], note:hope}, ext...\n",
              "1270                  [stats, player_criticize, team_cav]\n",
              "1271                                            [feeling]\n",
              "1272                               [player_praise, stats]\n",
              "1273                                         [commercial]\n",
              "1274                                         [commercial]\n",
              "1275                       [sentiment_neg, sentiment_pos]\n",
              "1276                                      [sentiment_neg]\n",
              "1277                                     [refs_neg, play]\n",
              "1278                                           [refs_neg]\n",
              "1279                                     [refs_neg, play]\n",
              "1280                                     [refs_neg, play]\n",
              "1281                         [player_criticize, team_cav]\n",
              "1282                         [player_criticize, team_cav]\n",
              "1283                                     [refs_neg, play]\n",
              "1284           [coach_neg, game_expertise, sentiment_neg]\n",
              "1285                               [team, game_expertise]\n",
              "1286             [player_praise, team_cav, sentiment_pos]\n",
              "Name: labels, Length: 1287, dtype: object"
            ]
          },
          "metadata": {
            "tags": []
          },
          "execution_count": 31
        }
      ]
    },
    {
      "cell_type": "code",
      "metadata": {
        "id": "j5IbQQ0esIef",
        "colab_type": "code",
        "colab": {}
      },
      "source": [
        "multilabel_binarizer = MultiLabelBinarizer()\n",
        "multilabel_binarizer.fit(basket.labels)\n",
        "Y = multilabel_binarizer.transform(basket.labels)"
      ],
      "execution_count": 0,
      "outputs": []
    },
    {
      "cell_type": "code",
      "metadata": {
        "id": "woBTEnPJqoAc",
        "colab_type": "code",
        "outputId": "21f2853a-a12b-47c0-d3da-f1047151b0c1",
        "colab": {
          "base_uri": "https://localhost:8080/",
          "height": 34
        }
      },
      "source": [
        "Y.shape"
      ],
      "execution_count": 0,
      "outputs": [
        {
          "output_type": "execute_result",
          "data": {
            "text/plain": [
              "(1287, 31)"
            ]
          },
          "metadata": {
            "tags": []
          },
          "execution_count": 33
        }
      ]
    },
    {
      "cell_type": "code",
      "metadata": {
        "id": "qdUcYCNXqn8H",
        "colab_type": "code",
        "outputId": "4259f6e1-8ed5-4266-e768-351c1b0a5906",
        "colab": {
          "base_uri": "https://localhost:8080/",
          "height": 51
        }
      },
      "source": [
        "Y[0]"
      ],
      "execution_count": 0,
      "outputs": [
        {
          "output_type": "execute_result",
          "data": {
            "text/plain": [
              "array([1, 1, 0, 1, 1, 1, 1, 0, 1, 0, 1, 0, 0, 0, 1, 0, 1, 1, 0, 0, 1, 1,\n",
              "       0, 1, 0, 1, 0, 0, 1, 1, 0])"
            ]
          },
          "metadata": {
            "tags": []
          },
          "execution_count": 37
        }
      ]
    },
    {
      "cell_type": "code",
      "metadata": {
        "id": "rR2z3jQqAo-d",
        "colab_type": "code",
        "outputId": "165a02d7-6443-45b8-a21d-b3393bba1756",
        "colab": {
          "base_uri": "https://localhost:8080/",
          "height": 68
        }
      },
      "source": [
        "multilabel_binarizer.classes_\n"
      ],
      "execution_count": 0,
      "outputs": [
        {
          "output_type": "execute_result",
          "data": {
            "text/plain": [
              "array([' ', ',', ':', '[', ']', '_', 'a', 'b', 'c', 'd', 'e', 'f', 'g',\n",
              "       'h', 'i', 'j', 'l', 'm', 'n', 'o', 'p', 'r', 's', 't', 'u', 'v',\n",
              "       'w', 'x', 'y', 'z', '}'], dtype=object)"
            ]
          },
          "metadata": {
            "tags": []
          },
          "execution_count": 35
        }
      ]
    }
  ]
}
